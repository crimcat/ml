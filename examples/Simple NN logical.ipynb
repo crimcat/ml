{
 "cells": [
  {
   "cell_type": "markdown",
   "metadata": {},
   "source": [
    "# Simple NN to calc logic function"
   ]
  },
  {
   "cell_type": "code",
   "execution_count": 1,
   "metadata": {},
   "outputs": [
    {
     "name": "stderr",
     "output_type": "stream",
     "text": [
      "Using TensorFlow backend.\n"
     ]
    }
   ],
   "source": [
    "from keras import models\n",
    "from keras import layers"
   ]
  },
  {
   "cell_type": "code",
   "execution_count": 2,
   "metadata": {},
   "outputs": [],
   "source": [
    "nw = models.Sequential()"
   ]
  },
  {
   "cell_type": "code",
   "execution_count": 3,
   "metadata": {},
   "outputs": [],
   "source": [
    "nw.add(layers.Dense(4, activation='relu', input_shape=(2,)))\n",
    "nw.add(layers.Dense(1, activation='sigmoid'))"
   ]
  },
  {
   "cell_type": "code",
   "execution_count": 4,
   "metadata": {},
   "outputs": [],
   "source": [
    "nw.compile(optimizer='rmsprop', loss='binary_crossentropy', metrics=['accuracy'])"
   ]
  },
  {
   "cell_type": "code",
   "execution_count": 5,
   "metadata": {},
   "outputs": [],
   "source": [
    "import numpy\n",
    "v = list()\n",
    "for i in range(1000):\n",
    "    v.append([0, 0, 0])\n",
    "    v.append([0, 1, 1])\n",
    "    v.append([1, 0, 1])\n",
    "    v.append([1, 1, 0])"
   ]
  },
  {
   "cell_type": "code",
   "execution_count": 6,
   "metadata": {},
   "outputs": [],
   "source": [
    "import pandas\n",
    "import numpy"
   ]
  },
  {
   "cell_type": "code",
   "execution_count": 7,
   "metadata": {},
   "outputs": [],
   "source": [
    "df = pandas.DataFrame(v, columns=['x1', 'x2', 'y'])"
   ]
  },
  {
   "cell_type": "code",
   "execution_count": 8,
   "metadata": {},
   "outputs": [],
   "source": [
    "train = df[:3000]\n",
    "val = df[3000:3500]\n",
    "test = df[3500:]"
   ]
  },
  {
   "cell_type": "code",
   "execution_count": 9,
   "metadata": {},
   "outputs": [
    {
     "name": "stdout",
     "output_type": "stream",
     "text": [
      "Train on 3000 samples, validate on 500 samples\n",
      "Epoch 1/30\n",
      "3000/3000 [==============================] - 1s 378us/step - loss: 0.6387 - accuracy: 0.7587 - val_loss: 0.5950 - val_accuracy: 1.0000\n",
      "Epoch 2/30\n",
      "3000/3000 [==============================] - 2s 540us/step - loss: 0.5370 - accuracy: 0.9943 - val_loss: 0.4713 - val_accuracy: 1.0000\n",
      "Epoch 3/30\n",
      "3000/3000 [==============================] - 1s 491us/step - loss: 0.3938 - accuracy: 1.0000 - val_loss: 0.3166 - val_accuracy: 1.0000\n",
      "Epoch 4/30\n",
      "3000/3000 [==============================] - 1s 495us/step - loss: 0.2419 - accuracy: 1.0000 - val_loss: 0.1728 - val_accuracy: 1.0000\n",
      "Epoch 5/30\n",
      "3000/3000 [==============================] - 1s 453us/step - loss: 0.1199 - accuracy: 1.0000 - val_loss: 0.0760 - val_accuracy: 1.0000\n",
      "Epoch 6/30\n",
      "3000/3000 [==============================] - 3s 857us/step - loss: 0.0485 - accuracy: 1.0000 - val_loss: 0.0269 - val_accuracy: 1.0000\n",
      "Epoch 7/30\n",
      "3000/3000 [==============================] - 2s 706us/step - loss: 0.0154 - accuracy: 1.0000 - val_loss: 0.0075 - val_accuracy: 1.0000\n",
      "Epoch 8/30\n",
      "3000/3000 [==============================] - 3s 971us/step - loss: 0.0039 - accuracy: 1.0000 - val_loss: 0.0017 - val_accuracy: 1.0000\n",
      "Epoch 9/30\n",
      "3000/3000 [==============================] - 3s 871us/step - loss: 8.2854e-04 - accuracy: 1.0000 - val_loss: 3.1973e-04 - val_accuracy: 1.0000\n",
      "Epoch 10/30\n",
      "3000/3000 [==============================] - 3s 1ms/step - loss: 1.4917e-04 - accuracy: 1.0000 - val_loss: 5.1608e-05 - val_accuracy: 1.0000\n",
      "Epoch 11/30\n",
      "3000/3000 [==============================] - 2s 785us/step - loss: 2.2454e-05 - accuracy: 1.0000 - val_loss: 6.9785e-06 - val_accuracy: 1.0000\n",
      "Epoch 12/30\n",
      "3000/3000 [==============================] - 2s 785us/step - loss: 2.9867e-06 - accuracy: 1.0000 - val_loss: 9.0259e-07 - val_accuracy: 1.0000\n",
      "Epoch 13/30\n",
      "3000/3000 [==============================] - 3s 974us/step - loss: 3.9427e-07 - accuracy: 1.0000 - val_loss: 1.3986e-07 - val_accuracy: 1.0000\n",
      "Epoch 14/30\n",
      "3000/3000 [==============================] - 3s 844us/step - loss: 7.6909e-08 - accuracy: 1.0000 - val_loss: 4.1175e-08 - val_accuracy: 1.0000\n",
      "Epoch 15/30\n",
      "3000/3000 [==============================] - 3s 980us/step - loss: 3.0827e-08 - accuracy: 1.0000 - val_loss: 2.4932e-08 - val_accuracy: 1.0000\n",
      "Epoch 16/30\n",
      "3000/3000 [==============================] - 3s 1ms/step - loss: 2.2425e-08 - accuracy: 1.0000 - val_loss: 2.0608e-08 - val_accuracy: 1.0000\n",
      "Epoch 17/30\n",
      "3000/3000 [==============================] - 3s 880us/step - loss: 1.9600e-08 - accuracy: 1.0000 - val_loss: 1.8825e-08 - val_accuracy: 1.0000\n",
      "Epoch 18/30\n",
      "3000/3000 [==============================] - 3s 1ms/step - loss: 1.8239e-08 - accuracy: 1.0000 - val_loss: 1.7777e-08 - val_accuracy: 1.0000\n",
      "Epoch 19/30\n",
      "3000/3000 [==============================] - 3s 1ms/step - loss: 1.7453e-08 - accuracy: 1.0000 - val_loss: 1.7246e-08 - val_accuracy: 1.0000\n",
      "Epoch 20/30\n",
      "3000/3000 [==============================] - 3s 928us/step - loss: 1.6935e-08 - accuracy: 1.0000 - val_loss: 1.6818e-08 - val_accuracy: 1.0000\n",
      "Epoch 21/30\n",
      "3000/3000 [==============================] - 3s 902us/step - loss: 1.6571e-08 - accuracy: 1.0000 - val_loss: 1.6476e-08 - val_accuracy: 1.0000\n",
      "Epoch 22/30\n",
      "3000/3000 [==============================] - 2s 780us/step - loss: 1.6323e-08 - accuracy: 1.0000 - val_loss: 1.5891e-08 - val_accuracy: 1.0000\n",
      "Epoch 23/30\n",
      "3000/3000 [==============================] - 3s 981us/step - loss: 1.6110e-08 - accuracy: 1.0000 - val_loss: 1.5889e-08 - val_accuracy: 1.0000\n",
      "Epoch 24/30\n",
      "3000/3000 [==============================] - 3s 1ms/step - loss: 1.5965e-08 - accuracy: 1.0000 - val_loss: 1.5721e-08 - val_accuracy: 1.0000\n",
      "Epoch 25/30\n",
      "3000/3000 [==============================] - 3s 993us/step - loss: 1.5837e-08 - accuracy: 1.0000 - val_loss: 1.5837e-08 - val_accuracy: 1.0000\n",
      "Epoch 26/30\n",
      "3000/3000 [==============================] - 3s 1ms/step - loss: 1.5720e-08 - accuracy: 1.0000 - val_loss: 1.5790e-08 - val_accuracy: 1.0000\n",
      "Epoch 27/30\n",
      "3000/3000 [==============================] - 3s 988us/step - loss: 1.5637e-08 - accuracy: 1.0000 - val_loss: 1.5451e-08 - val_accuracy: 1.0000\n",
      "Epoch 28/30\n",
      "3000/3000 [==============================] - 3s 959us/step - loss: 1.5565e-08 - accuracy: 1.0000 - val_loss: 1.5513e-08 - val_accuracy: 1.0000\n",
      "Epoch 29/30\n",
      "3000/3000 [==============================] - 3s 1ms/step - loss: 1.5521e-08 - accuracy: 1.0000 - val_loss: 1.5329e-08 - val_accuracy: 1.0000\n",
      "Epoch 30/30\n",
      "3000/3000 [==============================] - 3s 1ms/step - loss: 1.5439e-08 - accuracy: 1.0000 - val_loss: 1.5504e-08 - val_accuracy: 1.0000\n"
     ]
    }
   ],
   "source": [
    "history = nw.fit(train[['x1', 'x2']], train['y'], epochs=30, batch_size=4, validation_data=(val[['x1', 'x2']], val['y']))"
   ]
  },
  {
   "cell_type": "code",
   "execution_count": 10,
   "metadata": {},
   "outputs": [],
   "source": [
    "import matplotlib.pyplot as plt"
   ]
  },
  {
   "cell_type": "code",
   "execution_count": 11,
   "metadata": {},
   "outputs": [
    {
     "data": {
      "text/plain": [
       "dict_keys(['val_loss', 'val_accuracy', 'loss', 'accuracy'])"
      ]
     },
     "execution_count": 11,
     "metadata": {},
     "output_type": "execute_result"
    }
   ],
   "source": [
    "history.history.keys()"
   ]
  },
  {
   "cell_type": "code",
   "execution_count": 12,
   "metadata": {},
   "outputs": [],
   "source": [
    "history_dict = history.history\n",
    "loss_values = history_dict['loss']\n",
    "val_loss_values = history_dict['val_loss']\n",
    "acc_values = history_dict['accuracy']\n",
    "val_accuracy_values = history_dict['val_accuracy']\n",
    "\n",
    "epochs = range(1, len(acc_values) + 1)"
   ]
  },
  {
   "cell_type": "code",
   "execution_count": 13,
   "metadata": {},
   "outputs": [
    {
     "data": {
      "image/png": "[encoded data removed]",
      "text/plain": [
       "<Figure size 432x288 with 1 Axes>"
      ]
     },
     "metadata": {
      "needs_background": "light"
     },
     "output_type": "display_data"
    }
   ],
   "source": [
    "plt.plot(epochs, loss_values, 'bo', label='Training loss')\n",
    "plt.plot(epochs, val_loss_values, 'b', label='Validation loss')\n",
    "plt.title('Training and validation loss')\n",
    "plt.xlabel('Epochs')\n",
    "plt.ylabel('Loss')\n",
    "plt.legend()\n",
    "\n",
    "plt.show()"
   ]
  },
  {
   "cell_type": "code",
   "execution_count": 14,
   "metadata": {},
   "outputs": [
    {
     "data": {
      "image/png": "[encoded data removed]",
      "text/plain": [
       "<Figure size 432x288 with 1 Axes>"
      ]
     },
     "metadata": {
      "needs_background": "light"
     },
     "output_type": "display_data"
    }
   ],
   "source": [
    "plt.plot(epochs, acc_values, 'bo', label='Training accuracy')\n",
    "plt.plot(epochs, val_accuracy_values, 'b', label='Validation accuracy')\n",
    "plt.title('Training and validation accuracy')\n",
    "plt.xlabel('Epochs')\n",
    "plt.ylabel('Accuracy')\n",
    "plt.legend()\n",
    "\n",
    "plt.show()"
   ]
  },
  {
   "cell_type": "code",
   "execution_count": 15,
   "metadata": {},
   "outputs": [],
   "source": [
    "model = models.Sequential()\n",
    "model.add(layers.Dense(4, activation='relu', input_shape=(2,)))\n",
    "model.add(layers.Dense(1, activation='sigmoid'))\n",
    "model.compile(optimizer='rmsprop', loss='binary_crossentropy', metrics=['accuracy'])"
   ]
  },
  {
   "cell_type": "code",
   "execution_count": 16,
   "metadata": {},
   "outputs": [
    {
     "name": "stdout",
     "output_type": "stream",
     "text": [
      "Train on 3000 samples, validate on 500 samples\n",
      "Epoch 1/7\n",
      "3000/3000 [==============================] - 2s 795us/step - loss: 0.5602 - accuracy: 0.9033 - val_loss: 0.4761 - val_accuracy: 1.0000\n",
      "Epoch 2/7\n",
      "3000/3000 [==============================] - 3s 957us/step - loss: 0.3994 - accuracy: 1.0000 - val_loss: 0.3238 - val_accuracy: 1.0000\n",
      "Epoch 3/7\n",
      "3000/3000 [==============================] - 3s 918us/step - loss: 0.2604 - accuracy: 1.0000 - val_loss: 0.2020 - val_accuracy: 1.0000\n",
      "Epoch 4/7\n",
      "3000/3000 [==============================] - 2s 759us/step - loss: 0.1564 - accuracy: 1.0000 - val_loss: 0.1166 - val_accuracy: 1.0000\n",
      "Epoch 5/7\n",
      "3000/3000 [==============================] - 2s 752us/step - loss: 0.0873 - accuracy: 1.0000 - val_loss: 0.0633 - val_accuracy: 1.0000\n",
      "Epoch 6/7\n",
      "3000/3000 [==============================] - 3s 849us/step - loss: 0.0467 - accuracy: 1.0000 - val_loss: 0.0333 - val_accuracy: 1.0000\n",
      "Epoch 7/7\n",
      "3000/3000 [==============================] - 3s 851us/step - loss: 0.0245 - accuracy: 1.0000 - val_loss: 0.0173 - val_accuracy: 1.0000\n"
     ]
    }
   ],
   "source": [
    "history = model.fit(train[['x1', 'x2']], train['y'], epochs=7, batch_size=4, validation_data=(val[['x1', 'x2']], val['y']))"
   ]
  },
  {
   "cell_type": "code",
   "execution_count": 17,
   "metadata": {},
   "outputs": [
    {
     "name": "stdout",
     "output_type": "stream",
     "text": [
      "500/500 [==============================] - 0s 63us/step\n"
     ]
    },
    {
     "data": {
      "text/plain": [
       "[0.017316732555627823, 1.0]"
      ]
     },
     "execution_count": 17,
     "metadata": {},
     "output_type": "execute_result"
    }
   ],
   "source": [
    "model.evaluate(test[['x1', 'x2']], test['y'])"
   ]
  },
  {
   "cell_type": "code",
   "execution_count": 18,
   "metadata": {},
   "outputs": [],
   "source": [
    "pred_y = model.predict(test[['x1', 'x2']])"
   ]
  },
  {
   "cell_type": "code",
   "execution_count": 19,
   "metadata": {},
   "outputs": [
    {
     "data": {
      "text/plain": [
       "0.0"
      ]
     },
     "execution_count": 19,
     "metadata": {},
     "output_type": "execute_result"
    }
   ],
   "source": [
    "test['y'].subtract(numpy.round(pred_y, 0).reshape(1, 500)[0]).sum()"
   ]
  },
  {
   "cell_type": "code",
   "execution_count": 20,
   "metadata": {},
   "outputs": [],
   "source": [
    "model.save('nn_model_xor.h5')"
   ]
  },
  {
   "cell_type": "code",
   "execution_count": 21,
   "metadata": {},
   "outputs": [],
   "source": [
    "df.to_csv('xor_df.csv', header=True, sep=',')"
   ]
  },
  {
   "cell_type": "code",
   "execution_count": null,
   "metadata": {},
   "outputs": [],
   "source": []
  }
 ],
 "metadata": {
  "kernelspec": {
   "display_name": "Python 3",
   "language": "python",
   "name": "python3"
  },
  "language_info": {
   "codemirror_mode": {
    "name": "ipython",
    "version": 3
   },
   "file_extension": ".py",
   "mimetype": "text/x-python",
   "name": "python",
   "nbconvert_exporter": "python",
   "pygments_lexer": "ipython3",
   "version": "3.7.6"
  }
 },
 "nbformat": 4,
 "nbformat_minor": 4
}
