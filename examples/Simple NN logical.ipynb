{
 "cells": [
  {
   "cell_type": "markdown",
   "metadata": {},
   "source": [
    "# Simple NN to calc logic function"
   ]
  },
  {
   "cell_type": "code",
   "execution_count": 74,
   "metadata": {},
   "outputs": [],
   "source": [
    "from keras import models\n",
    "from keras import layers"
   ]
  },
  {
   "cell_type": "code",
   "execution_count": 110,
   "metadata": {},
   "outputs": [],
   "source": [
    "nw = models.Sequential()"
   ]
  },
  {
   "cell_type": "code",
   "execution_count": 111,
   "metadata": {},
   "outputs": [],
   "source": [
    "nw.add(layers.Dense(4, activation='relu', input_shape=(2,)))\n",
    "nw.add(layers.Dense(1, activation='sigmoid'))"
   ]
  },
  {
   "cell_type": "code",
   "execution_count": 112,
   "metadata": {},
   "outputs": [],
   "source": [
    "nw.compile(optimizer='rmsprop', loss='binary_crossentropy', metrics=['accuracy'])"
   ]
  },
  {
   "cell_type": "code",
   "execution_count": 113,
   "metadata": {},
   "outputs": [],
   "source": [
    "import numpy\n",
    "v = list()\n",
    "for i in range(1000):\n",
    "    v.append([0, 0, 0])\n",
    "    v.append([0, 1, 1])\n",
    "    v.append([1, 0, 1])\n",
    "    v.append([1, 1, 0])"
   ]
  },
  {
   "cell_type": "code",
   "execution_count": 114,
   "metadata": {},
   "outputs": [],
   "source": [
    "import pandas\n",
    "import numpy"
   ]
  },
  {
   "cell_type": "code",
   "execution_count": 115,
   "metadata": {},
   "outputs": [],
   "source": [
    "df = pandas.DataFrame(v, columns=['x1', 'x2', 'y'])"
   ]
  },
  {
   "cell_type": "code",
   "execution_count": 116,
   "metadata": {},
   "outputs": [],
   "source": [
    "train = df[:3000]\n",
    "val = df[3000:3500]\n",
    "test = df[3500:]"
   ]
  },
  {
   "cell_type": "code",
   "execution_count": 123,
   "metadata": {},
   "outputs": [
    {
     "name": "stdout",
     "output_type": "stream",
     "text": [
      "Train on 3000 samples, validate on 500 samples\n",
      "Epoch 1/30\n",
      "3000/3000 [==============================] - 2s 720us/step - loss: 0.0532 - accuracy: 1.0000 - val_loss: 0.0381 - val_accuracy: 1.0000\n",
      "Epoch 2/30\n",
      "3000/3000 [==============================] - 3s 857us/step - loss: 0.0281 - accuracy: 1.0000 - val_loss: 0.0199 - val_accuracy: 1.0000\n",
      "Epoch 3/30\n",
      "3000/3000 [==============================] - 3s 890us/step - loss: 0.0146 - accuracy: 1.0000 - val_loss: 0.0103 - val_accuracy: 1.0000\n",
      "Epoch 4/30\n",
      "3000/3000 [==============================] - 2s 675us/step - loss: 0.0075 - accuracy: 1.0000 - val_loss: 0.0053 - val_accuracy: 1.0000\n",
      "Epoch 5/30\n",
      "3000/3000 [==============================] - 2s 670us/step - loss: 0.0039 - accuracy: 1.0000 - val_loss: 0.0027 - val_accuracy: 1.0000\n",
      "Epoch 6/30\n",
      "3000/3000 [==============================] - 3s 946us/step - loss: 0.0020 - accuracy: 1.0000 - val_loss: 0.0014 - val_accuracy: 1.0000\n",
      "Epoch 7/30\n",
      "3000/3000 [==============================] - 3s 997us/step - loss: 0.0010 - accuracy: 1.0000 - val_loss: 7.2686e-04 - val_accuracy: 1.0000\n",
      "Epoch 8/30\n",
      "3000/3000 [==============================] - 3s 998us/step - loss: 5.3240e-04 - accuracy: 1.0000 - val_loss: 3.7385e-04 - val_accuracy: 1.0000\n",
      "Epoch 9/30\n",
      "3000/3000 [==============================] - 3s 1ms/step - loss: 2.7403e-04 - accuracy: 1.0000 - val_loss: 1.9323e-04 - val_accuracy: 1.0000\n",
      "Epoch 10/30\n",
      "3000/3000 [==============================] - 3s 1ms/step - loss: 1.4046e-04 - accuracy: 1.0000 - val_loss: 9.9413e-05 - val_accuracy: 1.0000\n",
      "Epoch 11/30\n",
      "3000/3000 [==============================] - 3s 983us/step - loss: 7.3049e-05 - accuracy: 1.0000 - val_loss: 5.1574e-05 - val_accuracy: 1.0000\n",
      "Epoch 12/30\n",
      "3000/3000 [==============================] - 3s 1ms/step - loss: 3.7773e-05 - accuracy: 1.0000 - val_loss: 2.6711e-05 - val_accuracy: 1.0000\n",
      "Epoch 13/30\n",
      "3000/3000 [==============================] - 3s 895us/step - loss: 1.9616e-05 - accuracy: 1.0000 - val_loss: 1.3874e-05 - val_accuracy: 1.0000\n",
      "Epoch 14/30\n",
      "3000/3000 [==============================] - 3s 1ms/step - loss: 1.0183e-05 - accuracy: 1.0000 - val_loss: 7.2379e-06 - val_accuracy: 1.0000\n",
      "Epoch 15/30\n",
      "3000/3000 [==============================] - 3s 981us/step - loss: 5.3186e-06 - accuracy: 1.0000 - val_loss: 3.7993e-06 - val_accuracy: 1.0000\n",
      "Epoch 16/30\n",
      "3000/3000 [==============================] - 3s 960us/step - loss: 2.8122e-06 - accuracy: 1.0000 - val_loss: 2.0159e-06 - val_accuracy: 1.0000\n",
      "Epoch 17/30\n",
      "3000/3000 [==============================] - 3s 1ms/step - loss: 1.4998e-06 - accuracy: 1.0000 - val_loss: 1.0870e-06 - val_accuracy: 1.0000\n",
      "Epoch 18/30\n",
      "3000/3000 [==============================] - 2s 826us/step - loss: 8.2325e-07 - accuracy: 1.0000 - val_loss: 6.0895e-07 - val_accuracy: 1.0000\n",
      "Epoch 19/30\n",
      "3000/3000 [==============================] - 2s 726us/step - loss: 4.7042e-07 - accuracy: 1.0000 - val_loss: 3.5961e-07 - val_accuracy: 1.0000\n",
      "Epoch 20/30\n",
      "3000/3000 [==============================] - 2s 550us/step - loss: 2.8660e-07 - accuracy: 1.0000 - val_loss: 2.2599e-07 - val_accuracy: 1.0000\n",
      "Epoch 21/30\n",
      "3000/3000 [==============================] - 2s 662us/step - loss: 1.8606e-07 - accuracy: 1.0000 - val_loss: 1.5306e-07 - val_accuracy: 1.0000\n",
      "Epoch 22/30\n",
      "3000/3000 [==============================] - 2s 657us/step - loss: 1.3006e-07 - accuracy: 1.0000 - val_loss: 1.1066e-07 - val_accuracy: 1.0000\n",
      "Epoch 23/30\n",
      "3000/3000 [==============================] - 2s 597us/step - loss: 9.7030e-08 - accuracy: 1.0000 - val_loss: 8.5103e-08 - val_accuracy: 1.0000\n",
      "Epoch 24/30\n",
      "3000/3000 [==============================] - 2s 730us/step - loss: 7.6374e-08 - accuracy: 1.0000 - val_loss: 6.8688e-08 - val_accuracy: 1.0000\n",
      "Epoch 25/30\n",
      "3000/3000 [==============================] - 2s 746us/step - loss: 6.2936e-08 - accuracy: 1.0000 - val_loss: 5.7811e-08 - val_accuracy: 1.0000\n",
      "Epoch 26/30\n",
      "3000/3000 [==============================] - 2s 601us/step - loss: 5.3777e-08 - accuracy: 1.0000 - val_loss: 5.0153e-08 - val_accuracy: 1.0000\n",
      "Epoch 27/30\n",
      "3000/3000 [==============================] - 2s 663us/step - loss: 4.7237e-08 - accuracy: 1.0000 - val_loss: 4.4493e-08 - val_accuracy: 1.0000\n",
      "Epoch 28/30\n",
      "3000/3000 [==============================] - 2s 600us/step - loss: 4.2380e-08 - accuracy: 1.0000 - val_loss: 4.0403e-08 - val_accuracy: 1.0000\n",
      "Epoch 29/30\n",
      "3000/3000 [==============================] - 2s 551us/step - loss: 3.8663e-08 - accuracy: 1.0000 - val_loss: 3.7057e-08 - val_accuracy: 1.0000\n",
      "Epoch 30/30\n",
      "3000/3000 [==============================] - 2s 547us/step - loss: 3.5764e-08 - accuracy: 1.0000 - val_loss: 3.4527e-08 - val_accuracy: 1.0000\n"
     ]
    }
   ],
   "source": [
    "history = nw.fit(train[['x1', 'x2']], train['y'], epochs=30, batch_size=4, validation_data=(val[['x1', 'x2']], val['y']))"
   ]
  },
  {
   "cell_type": "code",
   "execution_count": 124,
   "metadata": {},
   "outputs": [],
   "source": [
    "import matplotlib.pyplot as plt"
   ]
  },
  {
   "cell_type": "code",
   "execution_count": 125,
   "metadata": {},
   "outputs": [
    {
     "data": {
      "text/plain": [
       "dict_keys(['val_loss', 'val_accuracy', 'loss', 'accuracy'])"
      ]
     },
     "execution_count": 125,
     "metadata": {},
     "output_type": "execute_result"
    }
   ],
   "source": [
    "history.history.keys()"
   ]
  },
  {
   "cell_type": "code",
   "execution_count": 126,
   "metadata": {},
   "outputs": [],
   "source": [
    "history_dict = history.history\n",
    "loss_values = history_dict['loss']\n",
    "val_loss_values = history_dict['val_loss']\n",
    "acc_values = history_dict['accuracy']\n",
    "val_accuracy_values = history_dict['val_accuracy']\n",
    "\n",
    "epochs = range(1, len(acc_values) + 1)"
   ]
  },
  {
   "cell_type": "code",
   "execution_count": 127,
   "metadata": {},
   "outputs": [
    {
     "data": {
      "image/png": "[encoded data removed]",
      "text/plain": [
       "<Figure size 432x288 with 1 Axes>"
      ]
     },
     "metadata": {
      "needs_background": "light"
     },
     "output_type": "display_data"
    }
   ],
   "source": [
    "plt.plot(epochs, loss_values, 'bo', label='Training loss')\n",
    "plt.plot(epochs, val_loss_values, 'b', label='Validation loss')\n",
    "plt.title('Training and validation loss')\n",
    "plt.xlabel('Epochs')\n",
    "plt.ylabel('Loss')\n",
    "plt.legend()\n",
    "\n",
    "plt.show()"
   ]
  },
  {
   "cell_type": "code",
   "execution_count": 128,
   "metadata": {},
   "outputs": [
    {
     "data": {
      "image/png": "[encoded data removed]",
      "text/plain": [
       "<Figure size 432x288 with 1 Axes>"
      ]
     },
     "metadata": {
      "needs_background": "light"
     },
     "output_type": "display_data"
    }
   ],
   "source": [
    "plt.plot(epochs, acc_values, 'bo', label='Training accuracy')\n",
    "plt.plot(epochs, val_accuracy_values, 'b', label='Validation accuracy')\n",
    "plt.title('Training and validation accuracy')\n",
    "plt.xlabel('Epochs')\n",
    "plt.ylabel('Accuracy')\n",
    "plt.legend()\n",
    "\n",
    "plt.show()"
   ]
  },
  {
   "cell_type": "code",
   "execution_count": 129,
   "metadata": {},
   "outputs": [],
   "source": [
    "model = models.Sequential()\n",
    "model.add(layers.Dense(4, activation='relu', input_shape=(2,)))\n",
    "model.add(layers.Dense(1, activation='sigmoid'))\n",
    "model.compile(optimizer='rmsprop', loss='binary_crossentropy', metrics=['accuracy'])"
   ]
  },
  {
   "cell_type": "code",
   "execution_count": 130,
   "metadata": {},
   "outputs": [
    {
     "name": "stdout",
     "output_type": "stream",
     "text": [
      "Train on 3000 samples, validate on 500 samples\n",
      "Epoch 1/10\n",
      "3000/3000 [==============================] - 1s 314us/step - loss: 0.6130 - accuracy: 0.6960 - val_loss: 0.5473 - val_accuracy: 1.0000\n",
      "Epoch 2/10\n",
      "3000/3000 [==============================] - 1s 425us/step - loss: 0.4874 - accuracy: 1.0000 - val_loss: 0.4289 - val_accuracy: 1.0000\n",
      "Epoch 3/10\n",
      "3000/3000 [==============================] - 2s 608us/step - loss: 0.3700 - accuracy: 1.0000 - val_loss: 0.3094 - val_accuracy: 1.0000\n",
      "Epoch 4/10\n",
      "3000/3000 [==============================] - 2s 599us/step - loss: 0.2482 - accuracy: 1.0000 - val_loss: 0.1927 - val_accuracy: 1.0000\n",
      "Epoch 5/10\n",
      "3000/3000 [==============================] - 2s 509us/step - loss: 0.1472 - accuracy: 1.0000 - val_loss: 0.1086 - val_accuracy: 1.0000\n",
      "Epoch 6/10\n",
      "3000/3000 [==============================] - 2s 511us/step - loss: 0.0826 - accuracy: 1.0000 - val_loss: 0.0607 - val_accuracy: 1.0000\n",
      "Epoch 7/10\n",
      "3000/3000 [==============================] - 2s 716us/step - loss: 0.0464 - accuracy: 1.0000 - val_loss: 0.0350 - val_accuracy: 1.0000\n",
      "Epoch 8/10\n",
      "3000/3000 [==============================] - 3s 1ms/step - loss: 0.0271 - accuracy: 1.0000 - val_loss: 0.0205 - val_accuracy: 1.0000\n",
      "Epoch 9/10\n",
      "3000/3000 [==============================] - 3s 980us/step - loss: 0.0160 - accuracy: 1.0000 - val_loss: 0.0120 - val_accuracy: 1.0000\n",
      "Epoch 10/10\n",
      "3000/3000 [==============================] - 3s 1ms/step - loss: 0.0093 - accuracy: 1.0000 - val_loss: 0.0070 - val_accuracy: 1.0000\n"
     ]
    }
   ],
   "source": [
    "history = model.fit(train[['x1', 'x2']], train['y'], epochs=10, batch_size=4, validation_data=(val[['x1', 'x2']], val['y']))"
   ]
  },
  {
   "cell_type": "code",
   "execution_count": 131,
   "metadata": {},
   "outputs": [
    {
     "name": "stdout",
     "output_type": "stream",
     "text": [
      "500/500 [==============================] - 0s 31us/step\n"
     ]
    },
    {
     "data": {
      "text/plain": [
       "[0.007017825730144978, 1.0]"
      ]
     },
     "execution_count": 131,
     "metadata": {},
     "output_type": "execute_result"
    }
   ],
   "source": [
    "model.evaluate(test[['x1', 'x2']], test['y'])"
   ]
  },
  {
   "cell_type": "code",
   "execution_count": 132,
   "metadata": {},
   "outputs": [],
   "source": [
    "pred_y = model.predict(test[['x1', 'x2']])"
   ]
  },
  {
   "cell_type": "code",
   "execution_count": 159,
   "metadata": {},
   "outputs": [
    {
     "data": {
      "text/plain": [
       "0.0"
      ]
     },
     "execution_count": 159,
     "metadata": {},
     "output_type": "execute_result"
    }
   ],
   "source": [
    "test['y'].subtract(numpy.round(pred_y, 0).reshape(1, 500)[0]).sum()"
   ]
  },
  {
   "cell_type": "code",
   "execution_count": 161,
   "metadata": {},
   "outputs": [],
   "source": [
    "model.save('nn_model_xor.h5')"
   ]
  },
  {
   "cell_type": "code",
   "execution_count": 162,
   "metadata": {},
   "outputs": [],
   "source": [
    "df.to_csv('xor_df.csv', header=True, sep=',')"
   ]
  },
  {
   "cell_type": "code",
   "execution_count": null,
   "metadata": {},
   "outputs": [],
   "source": []
  }
 ],
 "metadata": {
  "kernelspec": {
   "display_name": "Python 3",
   "language": "python",
   "name": "python3"
  },
  "language_info": {
   "codemirror_mode": {
    "name": "ipython",
    "version": 3
   },
   "file_extension": ".py",
   "mimetype": "text/x-python",
   "name": "python",
   "nbconvert_exporter": "python",
   "pygments_lexer": "ipython3",
   "version": "3.7.6"
  }
 },
 "nbformat": 4,
 "nbformat_minor": 4
}
