{
 "cells": [
  {
   "cell_type": "markdown",
   "metadata": {},
   "source": [
    "# Simple MLP to calc logic function (xor)"
   ]
  },
  {
   "cell_type": "code",
   "execution_count": 93,
   "metadata": {},
   "outputs": [],
   "source": [
    "import tensorflow as tf\n",
    "from tensorflow import keras\n",
    "from tensorflow.keras import layers"
   ]
  },
  {
   "cell_type": "code",
   "execution_count": 94,
   "metadata": {},
   "outputs": [
    {
     "data": {
      "text/plain": [
       "'2.3.0-tf'"
      ]
     },
     "execution_count": 94,
     "metadata": {},
     "output_type": "execute_result"
    }
   ],
   "source": [
    "tf.keras.__version__"
   ]
  },
  {
   "cell_type": "code",
   "execution_count": 95,
   "metadata": {},
   "outputs": [],
   "source": [
    "nw = tf.keras.Sequential()"
   ]
  },
  {
   "cell_type": "code",
   "execution_count": 96,
   "metadata": {},
   "outputs": [],
   "source": [
    "nw.add(layers.Dense(4, activation='relu', input_shape=(2,)))\n",
    "nw.add(layers.Dense(1, activation='sigmoid'))"
   ]
  },
  {
   "cell_type": "code",
   "execution_count": 97,
   "metadata": {},
   "outputs": [],
   "source": [
    "nw.compile(optimizer='rmsprop', loss='binary_crossentropy', metrics=['accuracy'])"
   ]
  },
  {
   "cell_type": "code",
   "execution_count": 98,
   "metadata": {},
   "outputs": [],
   "source": [
    "v = list()\n",
    "for i in range(1000):\n",
    "    v.append([0, 0, 0])\n",
    "    v.append([0, 1, 1])\n",
    "    v.append([1, 0, 1])\n",
    "    v.append([1, 1, 0])"
   ]
  },
  {
   "cell_type": "code",
   "execution_count": 99,
   "metadata": {},
   "outputs": [],
   "source": [
    "import pandas\n",
    "import numpy"
   ]
  },
  {
   "cell_type": "code",
   "execution_count": 100,
   "metadata": {},
   "outputs": [],
   "source": [
    "df = pandas.DataFrame(v, columns=['x1', 'x2', 'y'])"
   ]
  },
  {
   "cell_type": "code",
   "execution_count": 101,
   "metadata": {},
   "outputs": [],
   "source": [
    "train = df[:3000]\n",
    "val = df[3000:3500]\n",
    "test = df[3500:]"
   ]
  },
  {
   "cell_type": "code",
   "execution_count": 102,
   "metadata": {},
   "outputs": [
    {
     "name": "stdout",
     "output_type": "stream",
     "text": [
      "Epoch 1/20\n",
      "750/750 [==============================] - 1s 1ms/step - loss: 0.6113 - accuracy: 0.8840 - val_loss: 0.5444 - val_accuracy: 1.0000\n",
      "Epoch 2/20\n",
      "750/750 [==============================] - 1s 1ms/step - loss: 0.4733 - accuracy: 1.0000 - val_loss: 0.3994 - val_accuracy: 1.0000\n",
      "Epoch 3/20\n",
      "750/750 [==============================] - 1s 1ms/step - loss: 0.3292 - accuracy: 1.0000 - val_loss: 0.2627 - val_accuracy: 1.0000\n",
      "Epoch 4/20\n",
      "750/750 [==============================] - 1s 1ms/step - loss: 0.2077 - accuracy: 1.0000 - val_loss: 0.1583 - val_accuracy: 1.0000\n",
      "Epoch 5/20\n",
      "750/750 [==============================] - 1s 1ms/step - loss: 0.1207 - accuracy: 1.0000 - val_loss: 0.0882 - val_accuracy: 1.0000\n",
      "Epoch 6/20\n",
      "750/750 [==============================] - 1s 1ms/step - loss: 0.0659 - accuracy: 1.0000 - val_loss: 0.0475 - val_accuracy: 1.0000\n",
      "Epoch 7/20\n",
      "750/750 [==============================] - 1s 1ms/step - loss: 0.0352 - accuracy: 1.0000 - val_loss: 0.0251 - val_accuracy: 1.0000\n",
      "Epoch 8/20\n",
      "750/750 [==============================] - 1s 1ms/step - loss: 0.0186 - accuracy: 1.0000 - val_loss: 0.0132 - val_accuracy: 1.0000\n",
      "Epoch 9/20\n",
      "750/750 [==============================] - 1s 1ms/step - loss: 0.0097 - accuracy: 1.0000 - val_loss: 0.0069 - val_accuracy: 1.0000\n",
      "Epoch 10/20\n",
      "750/750 [==============================] - 1s 1ms/step - loss: 0.0050 - accuracy: 1.0000 - val_loss: 0.0036 - val_accuracy: 1.0000\n",
      "Epoch 11/20\n",
      "750/750 [==============================] - 1s 1ms/step - loss: 0.0026 - accuracy: 1.0000 - val_loss: 0.0018 - val_accuracy: 1.0000\n",
      "Epoch 12/20\n",
      "750/750 [==============================] - 1s 1ms/step - loss: 0.0013 - accuracy: 1.0000 - val_loss: 9.4823e-04 - val_accuracy: 1.0000\n",
      "Epoch 13/20\n",
      "750/750 [==============================] - 1s 1ms/step - loss: 6.9382e-04 - accuracy: 1.0000 - val_loss: 4.8759e-04 - val_accuracy: 1.0000\n",
      "Epoch 14/20\n",
      "750/750 [==============================] - 1s 1ms/step - loss: 3.5612e-04 - accuracy: 1.0000 - val_loss: 2.5152e-04 - val_accuracy: 1.0000\n",
      "Epoch 15/20\n",
      "750/750 [==============================] - 1s 1ms/step - loss: 1.8392e-04 - accuracy: 1.0000 - val_loss: 1.3032e-04 - val_accuracy: 1.0000\n",
      "Epoch 16/20\n",
      "750/750 [==============================] - 4s 5ms/step - loss: 9.5283e-05 - accuracy: 1.0000 - val_loss: 6.7412e-05 - val_accuracy: 1.0000\n",
      "Epoch 17/20\n",
      "750/750 [==============================] - 1s 1ms/step - loss: 4.9445e-05 - accuracy: 1.0000 - val_loss: 3.4836e-05 - val_accuracy: 1.0000\n",
      "Epoch 18/20\n",
      "750/750 [==============================] - 1s 1ms/step - loss: 2.5424e-05 - accuracy: 1.0000 - val_loss: 1.8002e-05 - val_accuracy: 1.0000\n",
      "Epoch 19/20\n",
      "750/750 [==============================] - 1s 1ms/step - loss: 1.3224e-05 - accuracy: 1.0000 - val_loss: 9.3734e-06 - val_accuracy: 1.0000\n",
      "Epoch 20/20\n",
      "750/750 [==============================] - 1s 1ms/step - loss: 6.9290e-06 - accuracy: 1.0000 - val_loss: 4.9135e-06 - val_accuracy: 1.0000\n"
     ]
    }
   ],
   "source": [
    "history = nw.fit(train[['x1', 'x2']], train['y'], epochs=20, batch_size=4, validation_data=(val[['x1', 'x2']], val['y']))"
   ]
  },
  {
   "cell_type": "code",
   "execution_count": 103,
   "metadata": {},
   "outputs": [],
   "source": [
    "import matplotlib.pyplot as plt"
   ]
  },
  {
   "cell_type": "code",
   "execution_count": 104,
   "metadata": {},
   "outputs": [
    {
     "data": {
      "text/plain": [
       "dict_keys(['loss', 'accuracy', 'val_loss', 'val_accuracy'])"
      ]
     },
     "execution_count": 104,
     "metadata": {},
     "output_type": "execute_result"
    }
   ],
   "source": [
    "history.history.keys()"
   ]
  },
  {
   "cell_type": "code",
   "execution_count": 105,
   "metadata": {},
   "outputs": [],
   "source": [
    "history_dict = history.history\n",
    "loss_values = history_dict['loss']\n",
    "val_loss_values = history_dict['val_loss']\n",
    "acc_values = history_dict['accuracy']\n",
    "val_accuracy_values = history_dict['val_accuracy']\n",
    "\n",
    "epochs = range(1, len(acc_values) + 1)"
   ]
  },
  {
   "cell_type": "code",
   "execution_count": 106,
   "metadata": {},
   "outputs": [
    {
     "data": {
      "image/png": "[encoded data removed]",
      "text/plain": [
       "<Figure size 432x288 with 1 Axes>"
      ]
     },
     "metadata": {
      "needs_background": "light"
     },
     "output_type": "display_data"
    }
   ],
   "source": [
    "plt.plot(epochs, loss_values, 'bo', label='Training loss')\n",
    "plt.plot(epochs, val_loss_values, 'b', label='Validation loss')\n",
    "plt.title('Training and validation loss')\n",
    "plt.xlabel('Epochs')\n",
    "plt.ylabel('Loss')\n",
    "plt.legend()\n",
    "\n",
    "plt.show()"
   ]
  },
  {
   "cell_type": "code",
   "execution_count": 107,
   "metadata": {},
   "outputs": [
    {
     "data": {
      "image/png": "[encoded data removed]",
      "text/plain": [
       "<Figure size 432x288 with 1 Axes>"
      ]
     },
     "metadata": {
      "needs_background": "light"
     },
     "output_type": "display_data"
    }
   ],
   "source": [
    "plt.plot(epochs, acc_values, 'bo', label='Training accuracy')\n",
    "plt.plot(epochs, val_accuracy_values, 'b', label='Validation accuracy')\n",
    "plt.title('Training and validation accuracy')\n",
    "plt.xlabel('Epochs')\n",
    "plt.ylabel('Accuracy')\n",
    "plt.legend()\n",
    "\n",
    "plt.show()"
   ]
  },
  {
   "cell_type": "code",
   "execution_count": 108,
   "metadata": {},
   "outputs": [],
   "source": [
    "model = tf.keras.Sequential()\n",
    "model.add(layers.Dense(4, activation='relu', input_shape=(2,)))\n",
    "model.add(layers.Dense(1, activation='sigmoid'))\n",
    "model.compile(optimizer='rmsprop', loss='binary_crossentropy', metrics=['accuracy'])"
   ]
  },
  {
   "cell_type": "code",
   "execution_count": 109,
   "metadata": {},
   "outputs": [
    {
     "name": "stdout",
     "output_type": "stream",
     "text": [
      "Epoch 1/12\n",
      "750/750 [==============================] - 1s 1ms/step - loss: 0.5637 - accuracy: 0.9170 - val_loss: 0.4763 - val_accuracy: 1.0000\n",
      "Epoch 2/12\n",
      "750/750 [==============================] - 1s 1ms/step - loss: 0.3945 - accuracy: 1.0000 - val_loss: 0.3163 - val_accuracy: 1.0000\n",
      "Epoch 3/12\n",
      "750/750 [==============================] - 1s 1ms/step - loss: 0.2513 - accuracy: 1.0000 - val_loss: 0.1929 - val_accuracy: 1.0000\n",
      "Epoch 4/12\n",
      "750/750 [==============================] - 1s 1ms/step - loss: 0.1476 - accuracy: 1.0000 - val_loss: 0.1090 - val_accuracy: 1.0000\n",
      "Epoch 5/12\n",
      "750/750 [==============================] - 1s 1ms/step - loss: 0.0811 - accuracy: 1.0000 - val_loss: 0.0580 - val_accuracy: 1.0000\n",
      "Epoch 6/12\n",
      "750/750 [==============================] - 1s 1ms/step - loss: 0.0429 - accuracy: 1.0000 - val_loss: 0.0307 - val_accuracy: 1.0000\n",
      "Epoch 7/12\n",
      "750/750 [==============================] - 1s 1ms/step - loss: 0.0225 - accuracy: 1.0000 - val_loss: 0.0159 - val_accuracy: 1.0000\n",
      "Epoch 8/12\n",
      "750/750 [==============================] - 1s 1ms/step - loss: 0.0116 - accuracy: 1.0000 - val_loss: 0.0083 - val_accuracy: 1.0000\n",
      "Epoch 9/12\n",
      "750/750 [==============================] - 1s 1ms/step - loss: 0.0060 - accuracy: 1.0000 - val_loss: 0.0042 - val_accuracy: 1.0000\n",
      "Epoch 10/12\n",
      "750/750 [==============================] - 1s 1ms/step - loss: 0.0031 - accuracy: 1.0000 - val_loss: 0.0022 - val_accuracy: 1.0000\n",
      "Epoch 11/12\n",
      "750/750 [==============================] - 1s 1ms/step - loss: 0.0016 - accuracy: 1.0000 - val_loss: 0.0011 - val_accuracy: 1.0000\n",
      "Epoch 12/12\n",
      "750/750 [==============================] - 1s 1ms/step - loss: 8.2075e-04 - accuracy: 1.0000 - val_loss: 5.8267e-04 - val_accuracy: 1.0000\n"
     ]
    }
   ],
   "source": [
    "history = model.fit(train[['x1', 'x2']], train['y'], epochs=12, batch_size=4, validation_data=(val[['x1', 'x2']], val['y']))"
   ]
  },
  {
   "cell_type": "code",
   "execution_count": 110,
   "metadata": {},
   "outputs": [
    {
     "name": "stdout",
     "output_type": "stream",
     "text": [
      "16/16 [==============================] - 0s 998us/step - loss: 5.8267e-04 - accuracy: 1.0000\n"
     ]
    },
    {
     "data": {
      "text/plain": [
       "[0.0005826661363244057, 1.0]"
      ]
     },
     "execution_count": 110,
     "metadata": {},
     "output_type": "execute_result"
    }
   ],
   "source": [
    "model.evaluate(test[['x1', 'x2']], test['y'])"
   ]
  },
  {
   "cell_type": "code",
   "execution_count": 111,
   "metadata": {},
   "outputs": [],
   "source": [
    "pred_y = model.predict(test[['x1', 'x2']])"
   ]
  },
  {
   "cell_type": "code",
   "execution_count": 112,
   "metadata": {},
   "outputs": [
    {
     "data": {
      "text/plain": [
       "0.0"
      ]
     },
     "execution_count": 112,
     "metadata": {},
     "output_type": "execute_result"
    }
   ],
   "source": [
    "test['y'].subtract(numpy.round(pred_y, 0).reshape(1, 500)[0]).sum()"
   ]
  },
  {
   "cell_type": "code",
   "execution_count": 113,
   "metadata": {},
   "outputs": [
    {
     "name": "stdout",
     "output_type": "stream",
     "text": [
      "INFO:tensorflow:Assets written to: xor.tf\\assets\n"
     ]
    }
   ],
   "source": [
    "model.save('xor.h5', save_format='h5')\n",
    "model.save('xor.tf', save_format='tf')"
   ]
  },
  {
   "cell_type": "code",
   "execution_count": 114,
   "metadata": {},
   "outputs": [],
   "source": [
    "df.to_csv('xor_df.csv', header=True, sep=',')"
   ]
  },
  {
   "cell_type": "code",
   "execution_count": 115,
   "metadata": {},
   "outputs": [],
   "source": [
    "import onnx\n",
    "import keras2onnx\n",
    "import onnxruntime\n",
    "\n",
    "from tensorflow.keras.models import load_model"
   ]
  },
  {
   "cell_type": "code",
   "execution_count": 116,
   "metadata": {},
   "outputs": [],
   "source": [
    "model = load_model('xor.h5')"
   ]
  },
  {
   "cell_type": "code",
   "execution_count": 117,
   "metadata": {},
   "outputs": [
    {
     "name": "stderr",
     "output_type": "stream",
     "text": [
      "tf executing eager_mode: True\n",
      "tf.keras model eager_mode: False\n",
      "The ONNX operator number change on the optimization: 10 -> 6\n",
      "The maximum opset needed by this model is only 9.\n"
     ]
    }
   ],
   "source": [
    "onnx_model = keras2onnx.convert_keras(model, model.name)"
   ]
  },
  {
   "cell_type": "code",
   "execution_count": 118,
   "metadata": {},
   "outputs": [],
   "source": [
    "onnx.save_model(onnx_model, 'xor.onnx')"
   ]
  },
  {
   "cell_type": "code",
   "execution_count": 119,
   "metadata": {},
   "outputs": [],
   "source": [
    "x = df[['x1', 'x2']].to_numpy().astype(numpy.float32)\n",
    "y = df['y'].to_numpy().astype(numpy.float32)"
   ]
  },
  {
   "cell_type": "code",
   "execution_count": 120,
   "metadata": {},
   "outputs": [
    {
     "data": {
      "text/plain": [
       "array([[0., 0.],\n",
       "       [0., 1.],\n",
       "       [1., 0.],\n",
       "       ...,\n",
       "       [0., 1.],\n",
       "       [1., 0.],\n",
       "       [1., 1.]], dtype=float32)"
      ]
     },
     "execution_count": 120,
     "metadata": {},
     "output_type": "execute_result"
    }
   ],
   "source": [
    "x"
   ]
  },
  {
   "cell_type": "code",
   "execution_count": 121,
   "metadata": {},
   "outputs": [
    {
     "data": {
      "text/plain": [
       "array([0., 1., 1., ..., 1., 1., 0.], dtype=float32)"
      ]
     },
     "execution_count": 121,
     "metadata": {},
     "output_type": "execute_result"
    }
   ],
   "source": [
    "y"
   ]
  },
  {
   "cell_type": "code",
   "execution_count": 122,
   "metadata": {},
   "outputs": [],
   "source": [
    "numpy.savez('xor_x.npz', x)\n",
    "numpy.savez('xor_y.npz', y)"
   ]
  },
  {
   "cell_type": "code",
   "execution_count": 123,
   "metadata": {},
   "outputs": [],
   "source": [
    "content = onnx_model.SerializeToString()"
   ]
  },
  {
   "cell_type": "code",
   "execution_count": 124,
   "metadata": {},
   "outputs": [],
   "source": [
    "sess = onnxruntime.InferenceSession(content)"
   ]
  },
  {
   "cell_type": "code",
   "execution_count": 125,
   "metadata": {},
   "outputs": [],
   "source": [
    "input_name = sess.get_inputs()[0].name"
   ]
  },
  {
   "cell_type": "code",
   "execution_count": 126,
   "metadata": {},
   "outputs": [],
   "source": [
    "pred_onnx = sess.run(None, {input_name: x})"
   ]
  },
  {
   "cell_type": "code",
   "execution_count": 128,
   "metadata": {},
   "outputs": [
    {
     "data": {
      "text/plain": [
       "array([[[0.],\n",
       "        [1.],\n",
       "        [1.],\n",
       "        ...,\n",
       "        [1.],\n",
       "        [1.],\n",
       "        [0.]]], dtype=float32)"
      ]
     },
     "execution_count": 128,
     "metadata": {},
     "output_type": "execute_result"
    }
   ],
   "source": [
    "numpy.round(pred_onnx, 0)"
   ]
  },
  {
   "cell_type": "code",
   "execution_count": null,
   "metadata": {},
   "outputs": [],
   "source": []
  }
 ],
 "metadata": {
  "kernelspec": {
   "display_name": "Python 3",
   "language": "python",
   "name": "python3"
  },
  "language_info": {
   "codemirror_mode": {
    "name": "ipython",
    "version": 3
   },
   "file_extension": ".py",
   "mimetype": "text/x-python",
   "name": "python",
   "nbconvert_exporter": "python",
   "pygments_lexer": "ipython3",
   "version": "3.7.6"
  }
 },
 "nbformat": 4,
 "nbformat_minor": 4
}
